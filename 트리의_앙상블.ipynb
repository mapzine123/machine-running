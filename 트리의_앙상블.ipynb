{
  "nbformat": 4,
  "nbformat_minor": 0,
  "metadata": {
    "colab": {
      "provenance": [],
      "authorship_tag": "ABX9TyPFy503D0NpJUR+32tDZuCC",
      "include_colab_link": true
    },
    "kernelspec": {
      "name": "python3",
      "display_name": "Python 3"
    },
    "language_info": {
      "name": "python"
    }
  },
  "cells": [
    {
      "cell_type": "markdown",
      "metadata": {
        "id": "view-in-github",
        "colab_type": "text"
      },
      "source": [
        "<a href=\"https://colab.research.google.com/github/mapzine123/machine-running/blob/main/%ED%8A%B8%EB%A6%AC%EC%9D%98_%EC%95%99%EC%83%81%EB%B8%94.ipynb\" target=\"_parent\"><img src=\"https://colab.research.google.com/assets/colab-badge.svg\" alt=\"Open In Colab\"/></a>"
      ]
    },
    {
      "cell_type": "markdown",
      "source": [
        "## 정형 데이터와 비정형 데이터\n",
        "정형 데이터 : 어떤 구조로 되어 있다는 뜻.<br>\n",
        "ex) 엑셀, csv, DB등<br>\n",
        "<br>\n",
        "비정형 데이터 : 엑셀, DB 등으로 표현하기 어려운 것들<br>\n",
        "ex) 텍스트 데이터, 사진, 음악 등<br>\n",
        "<br>\n",
        "\n",
        "선형 회귀, 릿지, 라쏘, 다항회귀, 로지스틱 회귀 등은 정형 데이터에 잘 맞다.<br>\n",
        "정형 데이터를 다루는 데 가장 뛰어난 성과를 내는 알고리즘은 ***앙상블 학습***이라는 거다.\n",
        "<br>\n",
        "<br>\n",
        "그럼 비정형 데이터에는 어떤 알고리즘을 사용해야 할까?<br>\n",
        "***신경망 알고리즘***을 사용한다.<br>\n",
        "비정형 데이터는 규칙성을 찾기 어려워 전통적인 머신러닝 방법으로는 모델을 만들기 까다롭다."
      ],
      "metadata": {
        "id": "e1-db9ZdjKjA"
      }
    },
    {
      "cell_type": "markdown",
      "source": [
        "# 랜덤 포레스트\n",
        "앙상블 학습의 대표 주자 중 하나.<br>\n",
        "안정적인 성능 덕에 널리 사용됨<br>\n",
        "랜덤하게 선택한 샘플과 특성을 사용한다. 때문에,<br>\n",
        "1. 훈련 세트에 과대적합 되는 것을 막아준다.<br>\n",
        "2. 검증 세트와 테스트 세트에서 안정적인 성능을 얻을 수 있다.<br>\n",
        "\n",
        "<br>\n",
        "결정 트리를 랜덤하게 만들어 결정 트리의 숲을 만드는 것<br>\n",
        "각 결정 트리의 예측을 사용해 최종 예측을 만든다.<br>\n",
        "\n",
        "각 트리를 훈련하기 위한 데이터를 랜덤으로 만든다.<br>\n",
        "훈련 데이터에서 랜덤하게 샘플을 추출하여 훈련 데이터를 만드는데, 이때 한 샘플이 중복되어 추출될 수 있다.<br>\n",
        "<br>\n",
        "ex) 1000개의 가방에서 100개쌕 샘플을 뽑으면, 먼저 1개를 뽑고, 뽑았던걸 다시 가방에 넣음. 이런식으로 100개를 가방에서 뽑으면 중복된 샘플을 뽑을 수 있음<br>\n",
        "이렇게 만들어진 샘플을 ***부트스트랩 샘플*** 이라고 부름<br>\n",
        "\n",
        "부트 스트랩이란?<br>\n",
        "- 데이터 세트에서 중복을 허용하여 데이터를 샘플링하는 방식을 의미<br>\n",
        "<br>\n"
      ],
      "metadata": {
        "id": "ODvugH6Wj1En"
      }
    },
    {
      "cell_type": "code",
      "source": [
        "# 데이터 준비\n",
        "import numpy as np\n",
        "import pandas as pd\n",
        "from sklearn.model_selection import train_test_split\n",
        "wine = pd.read_csv('https://bit.ly/wine_csv_data')\n",
        "data = wine[['alcohol', 'sugar', 'pH']].to_numpy()\n",
        "target = wine['class'].to_numpy()\n",
        "train_input, test_input, train_target, test_target = train_test_split(data, target, test_size=0.2, random_state=42)"
      ],
      "metadata": {
        "id": "B5qxuz1UlZ0G"
      },
      "execution_count": 1,
      "outputs": []
    },
    {
      "cell_type": "code",
      "source": [
        "# cross_validate를 이용한 교차 검증 숳애\n",
        "from sklearn.model_selection import cross_validate\n",
        "from sklearn.ensemble import RandomForestClassifier\n",
        "rf = RandomForestClassifier(n_jobs=-1, random_state=42)\n",
        "scores = cross_validate(rf, train_input, train_target, return_train_score=True, n_jobs=-1)\n",
        "print(np.mean(scores['train_score']), np.mean(scores['test_score']))"
      ],
      "metadata": {
        "colab": {
          "base_uri": "https://localhost:8080/"
        },
        "id": "JYIIO8RWmEOK",
        "outputId": "489b3e48-06b9-460d-b451-0be0dfc21304"
      },
      "execution_count": 2,
      "outputs": [
        {
          "output_type": "stream",
          "name": "stdout",
          "text": [
            "0.9973541965122431 0.8905151032797809\n"
          ]
        }
      ]
    },
    {
      "cell_type": "markdown",
      "source": [
        "훈련 세트에 과대적합 된 것 같음."
      ],
      "metadata": {
        "id": "-12oDHQdmm1_"
      }
    },
    {
      "cell_type": "code",
      "source": [
        "# 랜덤 포레스트 모델의 훈련세트에 훈련한 후 특성 중요도 출력\n",
        "rf.fit(train_input, train_target)\n",
        "print(rf.feature_importances_)"
      ],
      "metadata": {
        "colab": {
          "base_uri": "https://localhost:8080/"
        },
        "id": "JTTwBGAQmw9d",
        "outputId": "2907c705-d05b-43b7-fb84-4387d0fa66cc"
      },
      "execution_count": 3,
      "outputs": [
        {
          "output_type": "stream",
          "name": "stdout",
          "text": [
            "[0.23167441 0.50039841 0.26792718]\n"
          ]
        }
      ]
    },
    {
      "cell_type": "markdown",
      "source": [
        "[0.12345626 0.86862934 0.0079144]<br>\n",
        "'결정 트리'에서 만든 특성 중요도<br>\n",
        "각각 [alcohol, sugar, pH]를 나타냄<br>\n",
        "\n",
        "\n",
        "---\n",
        "\n",
        "\n",
        "sugar의 중요도가 줄고, pH와 alcohol의 중요도가 상승함<br>\n",
        "랜덤 포레스트는 특성의 일부를 랜덤하게 선택하여 결정 트리를 훈련하기 때문에<br>\n",
        "하나의 특성에 과도하게 집중하지 않고, 좀 더 많은 특성이 훈련에 기여할 기회를 얻음<br>\n",
        "이는 과대적합을 줄이고, 일반화 성능을 높이는 데 도움이 됨\n",
        "\n",
        "\n",
        "\n",
        "---\n",
        "\n",
        "RandomForestClassifier에는 자체적으로 모델을 평가하는 점수를 얻을 수 있음<br>\n",
        "훈련 세트에서 중복을 허용하여 부트스트램 샘플을 만들어서 결정 트리를 훈련하는데,<br>\n",
        "이때 부트스트램 샘플에 포함되지 않고 남는 샘플이 있음.<br>\n",
        "이런 샘플을 ***OOB*** (Out Of Bag) 이라고 함<br>\n",
        "이 남는 샘플을 이용해 부트스트랩 샘플로 훈련한 결정 트리를 평가할 수 있음<br>\n",
        "마치 검증 세트의 역할을 수행함<br>"
      ],
      "metadata": {
        "id": "h_ICLh0um9Qq"
      }
    },
    {
      "cell_type": "code",
      "source": [
        "# OOB 점수 출력하기\n",
        "rf = RandomForestClassifier(oob_score=True, n_jobs=-1, random_state=42)\n",
        "rf.fit(train_input, train_target)\n",
        "print(rf.oob_score_)"
      ],
      "metadata": {
        "colab": {
          "base_uri": "https://localhost:8080/"
        },
        "id": "_Sla1ELXouaG",
        "outputId": "82ee93f4-6967-4a63-a599-665adc9da99c"
      },
      "execution_count": 4,
      "outputs": [
        {
          "output_type": "stream",
          "name": "stdout",
          "text": [
            "0.8934000384837406\n"
          ]
        }
      ]
    },
    {
      "cell_type": "markdown",
      "source": [
        "# 엑스트라 트리\n"
      ],
      "metadata": {
        "id": "Ta0QH3UvpAJx"
      }
    },
    {
      "cell_type": "markdown",
      "source": [
        "- 부트스트랩 샘플을 사용하지 않음 (결정 트리를 만들 때 전체 훈련 세트를 사용함)\n",
        "- 데이터 세트에서 중복을 허용하지 않고 데이터를 샘플링 함\n",
        "- 노드를 분할할 때 가장 좋은 분할을 찾는 것이 아니라, 무작위로 분할함\n",
        "- 하나의 결정 트리에서 특성을 무작위로 분할하면 성능이 낮아지겠지만, 트리를 앙상블 하기 때문에 과대 적합을 막고 검증 세트의 점수를 높이는 효과가 있음"
      ],
      "metadata": {
        "id": "CkFQk_OPIpRP"
      }
    },
    {
      "cell_type": "code",
      "source": [
        "from sklearn.ensemble import ExtraTreesClassifier\n",
        "et = ExtraTreesClassifier(n_jobs=-1, random_state=42)\n",
        "scores = cross_validate(et, train_input, train_target, return_train_score=True, n_jobs=-1)\n",
        "print(np.mean(scores['train_score']), np.mean(scores['test_score']))"
      ],
      "metadata": {
        "colab": {
          "base_uri": "https://localhost:8080/"
        },
        "id": "q-lx2uQlJb93",
        "outputId": "6a7a82de-1419-4790-b213-03ba929d4136"
      },
      "execution_count": 7,
      "outputs": [
        {
          "output_type": "stream",
          "name": "stdout",
          "text": [
            "0.9974503966084433 0.8887848893166506\n"
          ]
        }
      ]
    },
    {
      "cell_type": "code",
      "source": [
        "# 엑스트라 트리 특성 중요도\n",
        "et.fit(train_input, train_target)\n",
        "print(et.feature_importances_)"
      ],
      "metadata": {
        "colab": {
          "base_uri": "https://localhost:8080/"
        },
        "id": "of2HqoejKUuK",
        "outputId": "9e057811-7a29-4d92-f374-715a91f1a34d"
      },
      "execution_count": 8,
      "outputs": [
        {
          "output_type": "stream",
          "name": "stdout",
          "text": [
            "[0.20183568 0.52242907 0.27573525]\n"
          ]
        }
      ]
    },
    {
      "cell_type": "markdown",
      "source": [
        "# 그레이디언트 부스팅 (Gradient boosting)\n",
        "- 깊이가 얕은 결정 트리를 사용해 이전 트리의 오차를 보완하는 방식으로 앙상블 하는 방법\n",
        "- sklearn의 GradientBoostingClassifier은 깊이가 3인 결정트리를 100개 사용\n",
        "- 깊이가 얕은 결정 트리를 사용하기 때문에, 과대 적합에 강하고 옾은 일반화 성능을 기대할 수 있음\n",
        "- Gradient라는 이름에 맞게, 경사 하강법을 사용하여 트리를 앙상블에 추가함\n",
        "- 분류에서는 로지스틱 손실 함수, 회귀에서는 평균 제곱 오차 함수 사용\n",
        "- 결정 트리를 게속 추가하면서 가장 낮은 곳을 찾아 이동\n",
        "- 경사 하상법처럼 낮은곳으로 천천히 조금씩 이동 (학습률 매개변수로 속도 조절)"
      ],
      "metadata": {
        "id": "lO-zrShbLBm2"
      }
    },
    {
      "cell_type": "code",
      "source": [
        "from sklearn.ensemble import GradientBoostingClassifier\n",
        "gb = GradientBoostingClassifier(random_state=42)\n",
        "scores = cross_validate(gb, train_input, train_target, return_train_score=True, n_jobs=-1)\n",
        "print(np.mean(scores['train_score']), np.mean(scores['test_score']))"
      ],
      "metadata": {
        "colab": {
          "base_uri": "https://localhost:8080/"
        },
        "id": "3In9_ZyEL6Fq",
        "outputId": "35779538-40ac-4f6e-d222-78834e52b719"
      },
      "execution_count": 13,
      "outputs": [
        {
          "output_type": "stream",
          "name": "stdout",
          "text": [
            "0.8881086892152563 0.8720430147331015\n"
          ]
        }
      ]
    },
    {
      "cell_type": "code",
      "source": [
        "# 학습률을 증가시키고 트리의 개수를 늘리면?\n",
        "gb = GradientBoostingClassifier(n_estimators=500, learning_rate=0.2, random_state=42)\n",
        "scores = cross_validate(gb, train_input, train_target, return_train_score=True, n_jobs=-1)\n",
        "print(np.mean(scores['train_score']), np.mean(scores['test_score']))"
      ],
      "metadata": {
        "colab": {
          "base_uri": "https://localhost:8080/"
        },
        "id": "vhnWmbHeMpft",
        "outputId": "b38a9795-6236-4377-c727-f8ab38c2df8a"
      },
      "execution_count": 14,
      "outputs": [
        {
          "output_type": "stream",
          "name": "stdout",
          "text": [
            "0.9464595437171814 0.8780082549788999\n"
          ]
        }
      ]
    },
    {
      "cell_type": "markdown",
      "source": [
        "그레이디언트 부스팅이 랜덤 포레스트보다 일부 특성(당도)에 더 집중한다."
      ],
      "metadata": {
        "id": "SgPpBUzZM-SW"
      }
    },
    {
      "cell_type": "code",
      "source": [
        "gb.fit(train_input, train_target)\n",
        "print(gb.feature_importances_)"
      ],
      "metadata": {
        "colab": {
          "base_uri": "https://localhost:8080/"
        },
        "id": "Zc1D3fUVNC8B",
        "outputId": "5694e066-dfc6-448b-a153-3dd1c5c39e42"
      },
      "execution_count": 15,
      "outputs": [
        {
          "output_type": "stream",
          "name": "stdout",
          "text": [
            "[0.15872278 0.68010884 0.16116839]\n"
          ]
        }
      ]
    },
    {
      "cell_type": "markdown",
      "source": [
        "그레이디언트 부스팅이 랜덤 포레스트보다 조금 더 높은 성능을 얻을 수 있음<br>\n",
        "하지만 순서대로 트리를 추가하기 때문에 훈련 속도가 느림"
      ],
      "metadata": {
        "id": "oM-gd1A4NXi3"
      }
    },
    {
      "cell_type": "markdown",
      "source": [
        "#히스토그램 기반 그레이디언트 부스팅 (Histogram-based Gradient Boosting)\n",
        "- 정형 데이터를 다루는 머신러닝 알고리즘 중에 가장 인기가 높은 알고리즘\n",
        "- 입력 특성을 256개 구간으로 나눔 -> 노드를 분할할 때 최적의 분할을 매우 빠르게 찾을 수 있음\n",
        "- 256개 구간 중 하나를 떼어 놓고, 누락된 값을 위해 사용함 -> 입력에 누락된 특성이 있어도 따로 전처리를 할 필요가 없음\n"
      ],
      "metadata": {
        "id": "y2GfxBj0NhpT"
      }
    },
    {
      "cell_type": "code",
      "source": [
        "from sklearn.experimental import enable_hist_gradient_boosting\n",
        "from sklearn.ensemble import HistGradientBoostingClassifier\n",
        "\n",
        "hgb = HistGradientBoostingClassifier(random_state=42)\n",
        "scores = cross_validate(hgb, train_input, train_target, return_train_score=True)\n",
        "print(np.mean(scores['train_score']), np.mean(scores['test_score']))"
      ],
      "metadata": {
        "colab": {
          "base_uri": "https://localhost:8080/"
        },
        "id": "ICmqGTc3OFbg",
        "outputId": "243a29e8-6588-4c67-8058-ead93f6e290d"
      },
      "execution_count": 16,
      "outputs": [
        {
          "output_type": "stream",
          "name": "stderr",
          "text": [
            "/usr/local/lib/python3.10/dist-packages/sklearn/experimental/enable_hist_gradient_boosting.py:16: UserWarning: Since version 1.0, it is not needed to import enable_hist_gradient_boosting anymore. HistGradientBoostingClassifier and HistGradientBoostingRegressor are now stable and can be normally imported from sklearn.ensemble.\n",
            "  warnings.warn(\n"
          ]
        },
        {
          "output_type": "stream",
          "name": "stdout",
          "text": [
            "0.9321723946453317 0.8801241948619236\n"
          ]
        }
      ]
    },
    {
      "cell_type": "markdown",
      "source": [
        "과대 적합을 잘 억제하며 그레이디언트 부스팅보다 조금 더 높은 성능을 제공"
      ],
      "metadata": {
        "id": "tMgUuSlGOfNu"
      }
    },
    {
      "cell_type": "code",
      "source": [
        "# 특성 중요도 계산\n",
        "from sklearn.inspection import permutation_importance\n",
        "hgb.fit(train_input, train_target)\n",
        "\n",
        "# 특성을 하나씩 랜덤하게 섞어 모델의 성능이 변화하였느지를 관찰하여 어떤 특성이 중요한지를 계산하는 함수\n",
        "result = permutation_importance(hgb, train_input, train_target, n_repeats=10, random_state=42, n_jobs=-1)\n",
        "\n",
        "print(result.importances_mean)"
      ],
      "metadata": {
        "colab": {
          "base_uri": "https://localhost:8080/"
        },
        "id": "bSKV0cjoOm6u",
        "outputId": "1482c988-2374-4a38-db0e-619320305ef0"
      },
      "execution_count": 18,
      "outputs": [
        {
          "output_type": "stream",
          "name": "stdout",
          "text": [
            "[0.08876275 0.23438522 0.08027708]\n"
          ]
        }
      ]
    },
    {
      "cell_type": "markdown",
      "source": [
        "permutation_importance() 함수는 importances(특성 중요도), importances_mean(평균), importances_std(표준 편차)를 담고 있음"
      ],
      "metadata": {
        "id": "YJB18KcLPLOz"
      }
    },
    {
      "cell_type": "code",
      "source": [
        "# test 세트에서 특성 중요도 계산\n",
        "result = permutation_importance(hgb, test_input, test_target, n_repeats=10, random_state=42, n_jobs=-1)\n",
        "print(result.importances_mean)"
      ],
      "metadata": {
        "colab": {
          "base_uri": "https://localhost:8080/"
        },
        "id": "16RUnt3WPINz",
        "outputId": "e14a33ea-f01f-493c-8c00-468791de0ab8"
      },
      "execution_count": 19,
      "outputs": [
        {
          "output_type": "stream",
          "name": "stdout",
          "text": [
            "[0.05969231 0.20238462 0.049     ]\n"
          ]
        }
      ]
    },
    {
      "cell_type": "markdown",
      "source": [
        "[알코올 도수, 당도, pH순]<br>\n",
        "당도에 집중하는 것을 알 수 있음"
      ],
      "metadata": {
        "id": "Met1BAwGPi-2"
      }
    },
    {
      "cell_type": "code",
      "source": [
        "# 최종 성능 확인\n",
        "hgb.score(test_input, test_target)"
      ],
      "metadata": {
        "colab": {
          "base_uri": "https://localhost:8080/"
        },
        "id": "QYwQ9QtMPx7P",
        "outputId": "de594c94-9c6c-46da-d62c-89436c87d621"
      },
      "execution_count": 20,
      "outputs": [
        {
          "output_type": "execute_result",
          "data": {
            "text/plain": [
              "0.8723076923076923"
            ]
          },
          "metadata": {},
          "execution_count": 20
        }
      ]
    },
    {
      "cell_type": "markdown",
      "source": [
        "# 여러가지 HistGradientBoosting 라이브러리\n",
        "- XGBosst"
      ],
      "metadata": {
        "id": "xsvdjaLrP6wQ"
      }
    },
    {
      "cell_type": "code",
      "source": [
        "from xgboost import XGBClassifier\n",
        "xgb = XGBClassifier(tree_method='hist', random_state=42)\n",
        "scores = cross_validate(xgb, train_input, train_target, return_train_score=True)\n",
        "print(np.mean(scores['train_score']), np.mean(scores['test_score']))"
      ],
      "metadata": {
        "colab": {
          "base_uri": "https://localhost:8080/"
        },
        "id": "6EGQ1U6XQJUN",
        "outputId": "6f3a5791-bbab-4b82-b943-08e62e9ed417"
      },
      "execution_count": 21,
      "outputs": [
        {
          "output_type": "stream",
          "name": "stdout",
          "text": [
            "0.9558403027491312 0.8782000074035686\n"
          ]
        }
      ]
    },
    {
      "cell_type": "markdown",
      "source": [
        "- LightGBM"
      ],
      "metadata": {
        "id": "kx2yyXJeQeuM"
      }
    },
    {
      "cell_type": "code",
      "source": [
        "from lightgbm import LGBMClassifier\n",
        "lgb = LGBMClassifier(random_state=42)\n",
        "scores = cross_validate(lgb, train_input, train_target, return_train_score=True, n_jobs=-1)\n",
        "print(np.mean(scores['train_score']), np.mean(scores['test_score']))"
      ],
      "metadata": {
        "colab": {
          "base_uri": "https://localhost:8080/"
        },
        "id": "MbrlDUiOQjlg",
        "outputId": "32d73c42-8c04-4ebd-ee2f-6c4a9bebc2e5"
      },
      "execution_count": 22,
      "outputs": [
        {
          "output_type": "stream",
          "name": "stdout",
          "text": [
            "0.935828414851749 0.8801251203079884\n"
          ]
        }
      ]
    },
    {
      "cell_type": "markdown",
      "source": [
        "# 정리\n",
        "- 앙상블 학습 : 더 좋은 예측 결과를 만들기 위해 여러 개의 모델을 훈련하는 머신러닝 알고리즘\n",
        "\n",
        "- 랜덤 포레스트 : 부트스트랩 샘플 사용, 대표 앙상블 학습 알고리즘\n",
        "- 엑스트라 트리 : 부트스트랩 사용 안함, 결정 트리의 노드를 랜덤하게 분할\n",
        "- 그레이디언트 부스팅 : 이전 트리의 손실을 보완하는 식으로 얕은 결정트리를 연속으로 추가\n",
        "- 히스토그램 기반 그레이디언트 부스팅 : 훈련 데이터를 256개 정수 구간으로 나누어 빠르고 높은 성능을 냄, 가장 인기있음"
      ],
      "metadata": {
        "id": "iy6UbYPmQ9YQ"
      }
    }
  ]
}