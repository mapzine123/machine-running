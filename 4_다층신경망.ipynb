{
  "nbformat": 4,
  "nbformat_minor": 0,
  "metadata": {
    "colab": {
      "provenance": [],
      "authorship_tag": "ABX9TyNZWuoZlK9YgqQFXFkF/J5f",
      "include_colab_link": true
    },
    "kernelspec": {
      "name": "python3",
      "display_name": "Python 3"
    },
    "language_info": {
      "name": "python"
    }
  },
  "cells": [
    {
      "cell_type": "markdown",
      "metadata": {
        "id": "view-in-github",
        "colab_type": "text"
      },
      "source": [
        "<a href=\"https://colab.research.google.com/github/mapzine123/machine-running/blob/main/4_%EB%8B%A4%EC%B8%B5%EC%8B%A0%EA%B2%BD%EB%A7%9D.ipynb\" target=\"_parent\"><img src=\"https://colab.research.google.com/assets/colab-badge.svg\" alt=\"Open In Colab\"/></a>"
      ]
    },
    {
      "cell_type": "markdown",
      "source": [
        "## 신경망 알고리즘을 벡터화하기\n",
        "\n",
        "넘파이, 머신러닝, 딥러닝 패키지는 다차원 배열(행렬) 계산을 빨리 할 수 있음  \n",
        "이런 기능을 `벡터화(vectorization)된 연산`이라고 표현함  \n",
        "벡터화된 연산을 사용하면 알고리즘의 성능을 높일 수 있음\n"
      ],
      "metadata": {
        "id": "deRG5Edw3uBw"
      }
    },
    {
      "cell_type": "markdown",
      "source": [
        "### 배치 경사 하강법\n",
        "알고리즘을 1번 반복할 때 1개의 샘플을 사용하는 경사하강법을 `확률적 경사 하강법`이라고 함 (지금까지 이걸로 실습함)  \n",
        "이 방법은 가중치를 1번 업데이트할 때 1개의 샘플을 사용해 손실 함수의 전역 최솟값을 불안정하게 찾음  \n",
        "\n",
        "배치 경사 하강법은 가중치를 1번 업데이트 할 때 전체 샘플을 사용함  \n",
        "그래서 손실 함수의 전역 최솟값을 안정적으로 찾음  \n",
        "대신, 1번 업데이트할 때 사용되는 데이터 개수가 많아 1번 수행당 계산 비용이 많이 듬"
      ],
      "metadata": {
        "id": "B92eCLDr43XC"
      }
    },
    {
      "cell_type": "code",
      "execution_count": null,
      "metadata": {
        "id": "ubehCqTa3qA_"
      },
      "outputs": [],
      "source": []
    }
  ]
}